{
  "nbformat": 4,
  "nbformat_minor": 0,
  "metadata": {
    "colab": {
      "name": "eg.ipynb",
      "provenance": [],
      "mount_file_id": "1NyQDlQttDYzOCtz1yQry1FuVREFSvIAP",
      "authorship_tag": "ABX9TyPlpKO1lEawgyw8KK+0uL+g",
      "include_colab_link": true
    },
    "kernelspec": {
      "name": "python3",
      "display_name": "Python 3"
    },
    "accelerator": "GPU",
    "widgets": {
      "application/vnd.jupyter.widget-state+json": {
        "d356eee450e949dfa3a4181a024d6c51": {
          "model_module": "@jupyter-widgets/controls",
          "model_name": "HBoxModel",
          "state": {
            "_view_name": "HBoxView",
            "_dom_classes": [],
            "_model_name": "HBoxModel",
            "_view_module": "@jupyter-widgets/controls",
            "_model_module_version": "1.5.0",
            "_view_count": null,
            "_view_module_version": "1.5.0",
            "box_style": "",
            "layout": "IPY_MODEL_75fdc97624114679a037b496376d759d",
            "_model_module": "@jupyter-widgets/controls",
            "children": [
              "IPY_MODEL_350a1a22dedb431182ff4e4e6122728d",
              "IPY_MODEL_3089e3085abf4048bd17b2d502d87a68"
            ]
          }
        },
        "75fdc97624114679a037b496376d759d": {
          "model_module": "@jupyter-widgets/base",
          "model_name": "LayoutModel",
          "state": {
            "_view_name": "LayoutView",
            "grid_template_rows": null,
            "right": null,
            "justify_content": null,
            "_view_module": "@jupyter-widgets/base",
            "overflow": null,
            "_model_module_version": "1.2.0",
            "_view_count": null,
            "flex_flow": null,
            "width": null,
            "min_width": null,
            "border": null,
            "align_items": null,
            "bottom": null,
            "_model_module": "@jupyter-widgets/base",
            "top": null,
            "grid_column": null,
            "overflow_y": null,
            "overflow_x": null,
            "grid_auto_flow": null,
            "grid_area": null,
            "grid_template_columns": null,
            "flex": null,
            "_model_name": "LayoutModel",
            "justify_items": null,
            "grid_row": null,
            "max_height": null,
            "align_content": null,
            "visibility": null,
            "align_self": null,
            "height": null,
            "min_height": null,
            "padding": null,
            "grid_auto_rows": null,
            "grid_gap": null,
            "max_width": null,
            "order": null,
            "_view_module_version": "1.2.0",
            "grid_template_areas": null,
            "object_position": null,
            "object_fit": null,
            "grid_auto_columns": null,
            "margin": null,
            "display": null,
            "left": null
          }
        },
        "350a1a22dedb431182ff4e4e6122728d": {
          "model_module": "@jupyter-widgets/controls",
          "model_name": "FloatProgressModel",
          "state": {
            "_view_name": "ProgressView",
            "style": "IPY_MODEL_50a4f2ba18034e698aab280c46566c39",
            "_dom_classes": [],
            "description": "100%",
            "_model_name": "FloatProgressModel",
            "bar_style": "success",
            "max": 102502400,
            "_view_module": "@jupyter-widgets/controls",
            "_model_module_version": "1.5.0",
            "value": 102502400,
            "_view_count": null,
            "_view_module_version": "1.5.0",
            "orientation": "horizontal",
            "min": 0,
            "description_tooltip": null,
            "_model_module": "@jupyter-widgets/controls",
            "layout": "IPY_MODEL_999e93b3ed0e444aaae87fd06dcdbd0b"
          }
        },
        "3089e3085abf4048bd17b2d502d87a68": {
          "model_module": "@jupyter-widgets/controls",
          "model_name": "HTMLModel",
          "state": {
            "_view_name": "HTMLView",
            "style": "IPY_MODEL_99425bc9482c49cf888ba203873f154c",
            "_dom_classes": [],
            "description": "",
            "_model_name": "HTMLModel",
            "placeholder": "​",
            "_view_module": "@jupyter-widgets/controls",
            "_model_module_version": "1.5.0",
            "value": " 97.8M/97.8M [23:44&lt;00:00, 72.0kB/s]",
            "_view_count": null,
            "_view_module_version": "1.5.0",
            "description_tooltip": null,
            "_model_module": "@jupyter-widgets/controls",
            "layout": "IPY_MODEL_f8ede54632334077a3e4f553d57810f1"
          }
        },
        "50a4f2ba18034e698aab280c46566c39": {
          "model_module": "@jupyter-widgets/controls",
          "model_name": "ProgressStyleModel",
          "state": {
            "_view_name": "StyleView",
            "_model_name": "ProgressStyleModel",
            "description_width": "initial",
            "_view_module": "@jupyter-widgets/base",
            "_model_module_version": "1.5.0",
            "_view_count": null,
            "_view_module_version": "1.2.0",
            "bar_color": null,
            "_model_module": "@jupyter-widgets/controls"
          }
        },
        "999e93b3ed0e444aaae87fd06dcdbd0b": {
          "model_module": "@jupyter-widgets/base",
          "model_name": "LayoutModel",
          "state": {
            "_view_name": "LayoutView",
            "grid_template_rows": null,
            "right": null,
            "justify_content": null,
            "_view_module": "@jupyter-widgets/base",
            "overflow": null,
            "_model_module_version": "1.2.0",
            "_view_count": null,
            "flex_flow": null,
            "width": null,
            "min_width": null,
            "border": null,
            "align_items": null,
            "bottom": null,
            "_model_module": "@jupyter-widgets/base",
            "top": null,
            "grid_column": null,
            "overflow_y": null,
            "overflow_x": null,
            "grid_auto_flow": null,
            "grid_area": null,
            "grid_template_columns": null,
            "flex": null,
            "_model_name": "LayoutModel",
            "justify_items": null,
            "grid_row": null,
            "max_height": null,
            "align_content": null,
            "visibility": null,
            "align_self": null,
            "height": null,
            "min_height": null,
            "padding": null,
            "grid_auto_rows": null,
            "grid_gap": null,
            "max_width": null,
            "order": null,
            "_view_module_version": "1.2.0",
            "grid_template_areas": null,
            "object_position": null,
            "object_fit": null,
            "grid_auto_columns": null,
            "margin": null,
            "display": null,
            "left": null
          }
        },
        "99425bc9482c49cf888ba203873f154c": {
          "model_module": "@jupyter-widgets/controls",
          "model_name": "DescriptionStyleModel",
          "state": {
            "_view_name": "StyleView",
            "_model_name": "DescriptionStyleModel",
            "description_width": "",
            "_view_module": "@jupyter-widgets/base",
            "_model_module_version": "1.5.0",
            "_view_count": null,
            "_view_module_version": "1.2.0",
            "_model_module": "@jupyter-widgets/controls"
          }
        },
        "f8ede54632334077a3e4f553d57810f1": {
          "model_module": "@jupyter-widgets/base",
          "model_name": "LayoutModel",
          "state": {
            "_view_name": "LayoutView",
            "grid_template_rows": null,
            "right": null,
            "justify_content": null,
            "_view_module": "@jupyter-widgets/base",
            "overflow": null,
            "_model_module_version": "1.2.0",
            "_view_count": null,
            "flex_flow": null,
            "width": null,
            "min_width": null,
            "border": null,
            "align_items": null,
            "bottom": null,
            "_model_module": "@jupyter-widgets/base",
            "top": null,
            "grid_column": null,
            "overflow_y": null,
            "overflow_x": null,
            "grid_auto_flow": null,
            "grid_area": null,
            "grid_template_columns": null,
            "flex": null,
            "_model_name": "LayoutModel",
            "justify_items": null,
            "grid_row": null,
            "max_height": null,
            "align_content": null,
            "visibility": null,
            "align_self": null,
            "height": null,
            "min_height": null,
            "padding": null,
            "grid_auto_rows": null,
            "grid_gap": null,
            "max_width": null,
            "order": null,
            "_view_module_version": "1.2.0",
            "grid_template_areas": null,
            "object_position": null,
            "object_fit": null,
            "grid_auto_columns": null,
            "margin": null,
            "display": null,
            "left": null
          }
        }
      }
    }
  },
  "cells": [
    {
      "cell_type": "markdown",
      "metadata": {
        "id": "view-in-github",
        "colab_type": "text"
      },
      "source": [
        "<a href=\"https://colab.research.google.com/github/willychangx/covid-ml/blob/main/eg.ipynb\" target=\"_parent\"><img src=\"https://colab.research.google.com/assets/colab-badge.svg\" alt=\"Open In Colab\"/></a>"
      ]
    },
    {
      "cell_type": "code",
      "metadata": {
        "id": "yhBc_qZHlxEM"
      },
      "source": [
        "# Download folders. You don't need to change anything, you'll be downloading from my Google Drive.\n",
        "\n",
        "%%capture\n",
        "\n",
        "# Others.zip\n",
        "!gdown https://drive.google.com/uc?id=1L9dHYx2EwywfH3bWAcWPSDRCy-VsA8mX\n",
        "!unzip /content/Others.zip -d /content\n",
        "\n",
        "# Healthy.zip\n",
        "!gdown https://drive.google.com/uc?id=1FQMhrVAvzBp38bMDpXnRbJZ6ghnNEKBb\n",
        "!unzip /content/Healthy.zip -d /content\n",
        "\n",
        "# Covid.zip\n",
        "!gdown https://drive.google.com/uc?id=1CHCjoLEcf4imlgxp2EEphZKmiyTV6-vQ\n",
        "!unzip /content/Covid.zip -d /content\n",
        "%cd /content"
      ],
      "execution_count": null,
      "outputs": []
    },
    {
      "cell_type": "code",
      "metadata": {
        "id": "YuMEmaHt17s4"
      },
      "source": [
        "# Import libraries for the training\n",
        "import numpy as np\n",
        "import matplotlib.pyplot as plt\n",
        "from tqdm import tqdm # Displays a progress bar\n",
        "\n",
        "import torch\n",
        "from torch import nn\n",
        "from torch import optim\n",
        "import torch.nn.functional as F\n",
        "from torchvision import datasets, transforms, models\n",
        "from torch.utils.data import Dataset, Subset, DataLoader, random_split\n",
        "\n",
        "import os"
      ],
      "execution_count": 2,
      "outputs": []
    },
    {
      "cell_type": "code",
      "metadata": {
        "id": "Lqb0c8q5dRkl"
      },
      "source": [
        "# Parameters for the training\n",
        "params = {\n",
        "    \"mean\": [0.5, 0.5, 0.5], # mean subtracted from the pixel values to give optimal\n",
        "    \"std\": [0.5, 0.5, 0.5], # same as mean, but with standard deviation\n",
        "    \"batch\": 30, # batch size (samples per epoch)\n",
        "    \"child\": 3, # [0, 50), number of layers of resnet to freeze\n",
        "    \"childchild\": 1, # number of child_child to freeze\n",
        "    \"num_out\": 16, # output of architecture\n",
        "    \"fc1True\": True, # use bias for linear fully convolutional\n",
        "    \"fc2True\": True, # use bias for linear fully convolutional\n",
        "    \"lr\": 1e-2, # learning rate for adam optimizer\n",
        "    \"wd\": 0.1, # weight decay for adam optimizer\n",
        "    \"epochs\": 2, # number of epochs (iterations)\n",
        "    \"percent\": 0.20, # % of the dataset to split up (1/percent = # of folds for cross validation)\n",
        "}"
      ],
      "execution_count": 3,
      "outputs": []
    },
    {
      "cell_type": "code",
      "metadata": {
        "colab": {
          "base_uri": "https://localhost:8080/"
        },
        "id": "zOUP_kx52IC8",
        "outputId": "62c3a9cc-b6b6-447a-ba7c-f415a72898a4"
      },
      "source": [
        "# Import more libraries as they become relevant\n",
        "import cv2\n",
        "import shutil\n",
        "import math\n",
        "import random\n",
        "\n",
        "# Declare the types of classification\n",
        "types = ['Covid', 'Others', 'Healthy']\n",
        "newFolderPath = []\n",
        "\n",
        "# Input: Single folder name\n",
        "# Output: Combine all images in subfolders into one folder called ./new_{patientType}\n",
        "def combine_images(patientType) -> int:\n",
        "    origDir = os.getcwd()\n",
        "    currDir = origDir + '/' + patientType\n",
        "    newFolder = origDir + '/new_' + patientType\n",
        "    newFolderPath.append(newFolder)\n",
        "\n",
        "    # If the folder to be created exists, delete and create a new one\n",
        "    if os.path.isdir(newFolder):\n",
        "        shutil.rmtree(newFolder)\n",
        "    os.mkdir(newFolder)\n",
        "    index = 0\n",
        "\n",
        "    # Start going through each folder to extract image and paste into a new folder\n",
        "    for folder in os.listdir(currDir):\n",
        "        if os.path.isdir(currDir + '/' + folder):\n",
        "            for filename in os.listdir(currDir + '/' + folder):\n",
        "                if filename.endswith(\".png\"):\n",
        "                    img = cv2.imread(currDir + '/' + folder + '/' + filename)\n",
        "                    img = cv2.resize(img, (200, 200), interpolation=cv2.INTER_CUBIC)\n",
        "                    cv2.imwrite(newFolder + '/' + str(index) + '.png', img)\n",
        "                    index += 1\n",
        "                    # Rotate images by 90, 180, 270 to increase the dataset\n",
        "                    for x in range(3):\n",
        "                        img = cv2.rotate(img, cv2.ROTATE_90_CLOCKWISE)\n",
        "                        cv2.imwrite(newFolder + '/' + str(index) + '.png', img)\n",
        "                        index += 1\n",
        "    # In case you already have the folders and don't want to go through everything\n",
        "    # if patientType == 'Covid':\n",
        "    #     index = 8668\n",
        "    # elif patientType == 'Others':\n",
        "    #     index = 4988\n",
        "    # else:\n",
        "    #     index = 3028\n",
        "    \n",
        "    print(f\"Folder {patientType}: {index} files\")\n",
        "\n",
        "# For each classification folder, combine all images into a new folder    \n",
        "for name in types:\n",
        "    combine_images(name)"
      ],
      "execution_count": 4,
      "outputs": [
        {
          "output_type": "stream",
          "text": [
            "Folder Covid: 8668 files\n",
            "Folder Others: 4988 files\n",
            "Folder Healthy: 3028 files\n"
          ],
          "name": "stdout"
        }
      ]
    },
    {
      "cell_type": "code",
      "metadata": {
        "id": "Nn1ZqijAZ5Rx"
      },
      "source": [
        "# Input: An array of paths to the new folders\n",
        "# Output: 5 new folders with 20% of the dataset each\n",
        "def cross_validation_segments(paths) -> list:\n",
        "    # Check if folders exist; Delete and make new if they do\n",
        "    currDir = os.getcwd()\n",
        "    randList = []\n",
        "    for i in range(5):\n",
        "        if os.path.isdir('Rand' + str(i)):\n",
        "            shutil.rmtree('Rand' + str(i))\n",
        "        os.mkdir('Rand' + str(i))\n",
        "        randList.append(currDir + '/Rand' + str(i))\n",
        "\n",
        "    arrIdx = [0 for i in range(5)]\n",
        "    idx = 0\n",
        "    arr = []\n",
        "    id = 0\n",
        "\n",
        "    # Create an array of all images and paths\n",
        "    for path in paths:\n",
        "        arr = [path + '/' + folder for folder in os.listdir(path)]\n",
        "        # While there are still elements in the array\n",
        "        while len(arr):\n",
        "            # Randomly choose an image and place them into a folder\n",
        "            val = random.randrange(len(arr))\n",
        "            shutil.copyfile(arr[val], './Rand' + str(idx) + '/' + str(id) + '_' + str(arrIdx[idx]) + '.png')\n",
        "            del arr[val]\n",
        "            arrIdx[idx] += 1\n",
        "            idx += 1\n",
        "            idx %= 5\n",
        "        id += 1\n",
        "    return randList\n",
        "\n",
        "randFolders = cross_validation_segments(newFolderPath)"
      ],
      "execution_count": 5,
      "outputs": []
    },
    {
      "cell_type": "code",
      "metadata": {
        "id": "8FYuhhfqspyW"
      },
      "source": [
        "# Input: Path\n",
        "# Output: Array of images in path\n",
        "def read_images(path) -> list:\n",
        "    images = [cv2.imread(path + '/' + img) for img in os.listdir(path)]\n",
        "    return images\n",
        "\n",
        "# Input: Path\n",
        "# Output: Array of numbers (labels)\n",
        "def read_labels(path):\n",
        "    labels = [open(path + '/' + lbl, \"r\").read() for lbl in os.listdir(path)]\n",
        "    return labels\n",
        "\n",
        "# DataSet class to override some Dataset methods (functions)\n",
        "class DataSet(Dataset):\n",
        "    def __init__(self, root, iteration, randFolders):\n",
        "        idx = 0\n",
        "        currDir = os.getcwd()\n",
        "        train = False\n",
        "\n",
        "        # Create the ./Dataset/(Train/Test)/(image/label) folders\n",
        "        folderNames = root.split('/')\n",
        "        for name in folderNames:\n",
        "            if name != '.' and name != '':\n",
        "                try:\n",
        "                    os.mkdir(name)\n",
        "                    os.chdir(name)\n",
        "                except:\n",
        "                    os.chdir(name)\n",
        "            if name == 'Train':\n",
        "                train = True\n",
        "        os.mkdir('image')\n",
        "        os.mkdir('label')\n",
        "\n",
        "        # If it's not the training folder, use only one Rand folder\n",
        "        if not train:\n",
        "            for file in os.listdir(randFolders[iteration]):\n",
        "                id = file.split('_')[0]\n",
        "                shutil.copy2(randFolders[iteration] + '/' + str(file), './image/' + str(idx).zfill(5) + '.png')\n",
        "                fp = open(\"./label/\" + str(idx).zfill(5) + '.txt', \"w\")\n",
        "                fp.write(str(id))\n",
        "                idx += 1\n",
        "        # Otherwise, use the other folders\n",
        "        else:\n",
        "            for num, folder in enumerate(randFolders):\n",
        "                if num != iteration:\n",
        "                    for file in os.listdir(folder):\n",
        "                        id = file.split('_')[0]\n",
        "                        shutil.copy2(folder + '/' + str(file), './image/' + str(idx).zfill(5) + '.png')\n",
        "                        fp = open(\"./label/\" + str(idx).zfill(5) + '.txt', \"w\")\n",
        "                        fp.write(str(id))\n",
        "                        idx += 1\n",
        "      \n",
        "        os.chdir(currDir)\n",
        "        \n",
        "        self.ROOT = root\n",
        "        self.images = read_images(root + \"/image\")\n",
        "        self.labels = read_labels(root + \"/label\")\n",
        "\n",
        "    def __len__(self):\n",
        "        # Return number of points in the dataset\n",
        "\n",
        "        return len(self.images)\n",
        "\n",
        "    def __getitem__(self, idx):\n",
        "        # Here we have to return the item requested by `idx`. The PyTorch DataLoader class will use this method to make an iterable for training/validation loop.\n",
        "\n",
        "        img = self.images[idx]\n",
        "        label = self.labels[idx]\n",
        "\n",
        "        return {'image': img, 'label': label }"
      ],
      "execution_count": 8,
      "outputs": []
    },
    {
      "cell_type": "code",
      "metadata": {
        "id": "53FWd3bwsRRR"
      },
      "source": [
        "import torchvision.models as models\n",
        "\n",
        "class Network(nn.Module):\n",
        "    def __init__(self):\n",
        "        super().__init__()\n",
        "        # TODO: [Transfer learning with pre-trained ResNet-50] 1) Define how many first layers of convolutoinal neural network (CNN) feature extractor in ResNet-50 to be \"frozen\" and 2) design your own fully-connected network (FCN) classifier.\n",
        "        # 1) You will only refine last several layers of CNN feature extractor in ResNet-50 that mainly relate to high-level vision task. Determine how many first layers of ResNet-50 should be frozen to achieve best performances. Commented codes below will help you understand the architecture, i.e., \"children\", of ResNet-50.\n",
        "        # 2) Design your own FCN classifier. Here I provide a sample of two-layer FCN.\n",
        "        # Refer to PyTorch documentations of torch.nn to pick your layers. (https://pytorch.org/docs/stable/nn.html)\n",
        "        # Some common Choices are: Linear, ReLU, Dropout, MaxPool2d, AvgPool2d\n",
        "        # If you have many layers, consider using nn.Sequential() to simplify your code\n",
        "        \n",
        "        # Load pretrained ResNet-50\n",
        "        self.model_resnet = models.resnet50(pretrained=True)\n",
        "        \n",
        "        # The code below can show children of ResNet-50\n",
        "        # child_counter = 0\n",
        "        # for child in self.model_resnet.children():\n",
        "        #    print(\" child\", child_counter, \"is -\")\n",
        "        #    print(child)\n",
        "        #    child_counter += 1\n",
        "        \n",
        "        # TODO: Determine how many first layers of ResNet-50 to freeze\n",
        "        child_counter = 0\n",
        "        for child in self.model_resnet.children():\n",
        "            if child_counter < params['child']:\n",
        "                for param in child.parameters():\n",
        "                    param.requires_grad = False\n",
        "            elif child_counter == params['child']:\n",
        "                children_of_child_counter = 0\n",
        "                for children_of_child in child.children():\n",
        "                    if children_of_child_counter < params['childchild']:\n",
        "                        for param in children_of_child.parameters():\n",
        "                            param.requires_grad = False\n",
        "                    else:\n",
        "                        children_of_child_counter += 1\n",
        "            else:\n",
        "                print(\"child \",child_counter,\" was not frozen\")\n",
        "            child_counter += 1\n",
        "        \n",
        "        # Set ResNet-50's FCN as an identity mapping\n",
        "        num_fc_in = self.model_resnet.fc.in_features\n",
        "        self.model_resnet.fc = nn.Identity()\n",
        "        \n",
        "        # TODO: Design your own FCN\n",
        "        self.fc1 = nn.Linear(num_fc_in, params['num_out'], bias = params['fc1True']) # from input of size num_fc_in to output of size ?\n",
        "        self.fc2 = nn.Linear(params['num_out'], 3, bias = params['fc2True']) # from hidden layer to 3 class scores\n",
        "\n",
        "    def forward(self,x):\n",
        "        # TODO: Design your own network, implement forward pass here\n",
        "        \n",
        "        relu = nn.ReLU() # No need to define self.relu because it contains no parameters\n",
        "        \n",
        "        with torch.no_grad():\n",
        "            features = self.model_resnet(x)\n",
        "            \n",
        "        x = self.fc1(features) # Activation are flattened before being passed to the fully connected layers\n",
        "        x = relu(x)\n",
        "        x = self.fc2(x)\n",
        "        \n",
        "        # The loss layer will be applied outside Network class\n",
        "        return x"
      ],
      "execution_count": 9,
      "outputs": []
    },
    {
      "cell_type": "code",
      "metadata": {
        "colab": {
          "base_uri": "https://localhost:8080/",
          "height": 1000,
          "referenced_widgets": [
            "d356eee450e949dfa3a4181a024d6c51",
            "75fdc97624114679a037b496376d759d",
            "350a1a22dedb431182ff4e4e6122728d",
            "3089e3085abf4048bd17b2d502d87a68",
            "50a4f2ba18034e698aab280c46566c39",
            "999e93b3ed0e444aaae87fd06dcdbd0b",
            "99425bc9482c49cf888ba203873f154c",
            "f8ede54632334077a3e4f553d57810f1"
          ]
        },
        "id": "bjye31G9reeE",
        "outputId": "99041b5d-256f-42c3-e7b9-973772a6a1c6"
      },
      "source": [
        "acc = []\n",
        "\n",
        "for i in range((int)(1/params['percent'])):\n",
        "    if os.path.isdir('Dataset'):\n",
        "        shutil.rmtree('Dataset')\n",
        "\n",
        "    # Load the dataset and train and test splits\n",
        "    print(\"Loading datasets...\")\n",
        "\n",
        "    # Data path\n",
        "    DATA_train_path = DataSet('./Dataset/Train', i, randFolders)\n",
        "    DATA_test_path = DataSet('./Dataset/Test', i, randFolders)\n",
        "\n",
        "    # Data normalization\n",
        "    MyTransform = transforms.Compose([\n",
        "        transforms.Grayscale(num_output_channels=3), # Convert image to grayscale\n",
        "        transforms.ToTensor(), # Transform from [0,255] uint8 to [0,1] float\n",
        "        transforms.Normalize(params['mean'], params['std']) # TODO: Normalize to zero mean and unit variance with appropriate parameters\n",
        "    ])\n",
        "\n",
        "    DATA_train = datasets.ImageFolder(root=DATA_train_path.ROOT, transform=MyTransform)\n",
        "    DATA_test = datasets.ImageFolder(root=DATA_test_path.ROOT, transform=MyTransform)\n",
        "\n",
        "    print(\"Done!\")\n",
        "\n",
        "    # Create dataloaders\n",
        "    # TODO: Experiment with different batch sizes\n",
        "    trainloader = DataLoader(DATA_train, batch_size=params['batch'], shuffle=True)\n",
        "    testloader = DataLoader(DATA_test, batch_size=params['batch'], shuffle=True)\n",
        "\n",
        "    device = \"cuda\" if torch.cuda.is_available() else \"cpu\" # Configure device\n",
        "    model = Network().to(device)\n",
        "\n",
        "    criterion = nn.CrossEntropyLoss() # Specify the loss layer (note: CrossEntropyLoss already includes LogSoftMax())\n",
        "    # TODO: Modify the line below, experiment with different optimizers and parameters (such as learning rate)\n",
        "    optimizer = optim.Adam(filter(lambda p: p.requires_grad, model.parameters()), lr=params['lr'], weight_decay=params['wd']) # Specify optimizer and assign trainable parameters to it, weight_decay is L2 regularization strength (default: lr=1e-2, weight_decay=1e-4)\n",
        "    num_epochs = params['epochs'] # TODO: Choose an appropriate number of training epochs\n",
        "    \n",
        "    def train(model, loader, num_epoch = num_epochs): # Train the model\n",
        "        print(\"Start training...\")\n",
        "        model.train() # Set the model to training mode\n",
        "        trainingLoss = []\n",
        "        testingLoss = []\n",
        "        for i in range(num_epoch):\n",
        "            running_loss = []\n",
        "            test_loss = []\n",
        "            for batch, label in tqdm(loader):\n",
        "                batch = batch.to(device)\n",
        "                label = label.to(device)\n",
        "                optimizer.zero_grad() # Clear gradients from the previous iteration\n",
        "                pred = model(batch) # This will call Network.forward() that you implement\n",
        "                loss = criterion(pred, label) # Calculate the loss\n",
        "                running_loss.append(loss.item())\n",
        "                loss.backward() # Backprop gradients to all tensors in the network\n",
        "                optimizer.step() # Update trainable weights\n",
        "            print(\"Epoch {} training loss:{}\".format(i+1,np.mean(running_loss))) # Print the average loss for this epoch\n",
        "            with torch.no_grad():\n",
        "                for batch, label in tqdm(loader):\n",
        "                    batch = batch.to(device)\n",
        "                    label = label.to(device)\n",
        "                    optimizer.zero_grad() # Clear gradients from the previous iteration\n",
        "                    pred = model(batch) # This will call Network.forward() that you implement\n",
        "                    loss = criterion(pred, label) # Calculate the loss\n",
        "                    test_loss.append(loss.item())\n",
        "            print(\"Epoch {} testing loss:{}\".format(i+1,np.mean(running_loss))) # Print the average loss for this epoch\n",
        "            trainingLoss.append(np.mean(running_loss))\n",
        "            testingLoss.append(np.mean(test_loss))\n",
        "        print(\"Done!\")\n",
        "        plt.plot(trainingLoss, color='blue', label=\"train\")\n",
        "        plt.plot(testingLoss, color='olive', label=\"test\")\n",
        "        plt.ylabel('loss')\n",
        "        plt.xlabel('epoch')\n",
        "        plt.legend()\n",
        "        plt.show()\n",
        "\n",
        "    def evaluate(model, loader): # Evaluate accuracy on validation / test set\n",
        "        model.eval() # Set the model to evaluation mode\n",
        "        correct = 0\n",
        "        with torch.no_grad(): # Do not calculate grident to speed up computation\n",
        "            for batch, label in tqdm(loader):\n",
        "                batch = batch.to(device)\n",
        "                label = label.to(device)\n",
        "                pred = model(batch)\n",
        "                correct += (torch.argmax(pred,dim=1)==label).sum().item()\n",
        "        acc = correct/len(loader.dataset)\n",
        "        print(\"Evaluation accuracy: {}\".format(acc))\n",
        "        return acc\n",
        "      \n",
        "    train(model, trainloader, num_epochs)\n",
        "    print(\"Evaluate on test set\")\n",
        "    acc.append(evaluate(model, testloader))\n",
        "\n",
        "print(f\"Average Accuracy: {np.mean(acc)}\")"
      ],
      "execution_count": 10,
      "outputs": [
        {
          "output_type": "stream",
          "text": [
            "Loading datasets...\n",
            "Done!\n"
          ],
          "name": "stdout"
        },
        {
          "output_type": "stream",
          "text": [
            "Downloading: \"https://download.pytorch.org/models/resnet50-19c8e357.pth\" to /root/.cache/torch/hub/checkpoints/resnet50-19c8e357.pth\n"
          ],
          "name": "stderr"
        },
        {
          "output_type": "display_data",
          "data": {
            "application/vnd.jupyter.widget-view+json": {
              "model_id": "d356eee450e949dfa3a4181a024d6c51",
              "version_minor": 0,
              "version_major": 2
            },
            "text/plain": [
              "HBox(children=(FloatProgress(value=0.0, max=102502400.0), HTML(value='')))"
            ]
          },
          "metadata": {
            "tags": []
          }
        },
        {
          "output_type": "stream",
          "text": [
            "\n",
            "child  4  was not frozen\n",
            "child  5  was not frozen\n",
            "child  6  was not frozen\n",
            "child  7  was not frozen\n",
            "child  8  was not frozen\n",
            "child  9  was not frozen\n"
          ],
          "name": "stdout"
        },
        {
          "output_type": "stream",
          "text": [
            "\r  0%|          | 0/445 [00:00<?, ?it/s]"
          ],
          "name": "stderr"
        },
        {
          "output_type": "stream",
          "text": [
            "Start training...\n"
          ],
          "name": "stdout"
        },
        {
          "output_type": "stream",
          "text": [
            "100%|██████████| 445/445 [01:12<00:00,  6.17it/s]\n",
            "100%|██████████| 445/445 [01:13<00:00,  6.08it/s]\n",
            "  0%|          | 1/445 [00:00<01:12,  6.13it/s]"
          ],
          "name": "stderr"
        },
        {
          "output_type": "stream",
          "text": [
            "Epoch 1 loss:0.0022626434943787\n"
          ],
          "name": "stdout"
        },
        {
          "output_type": "stream",
          "text": [
            "100%|██████████| 445/445 [01:13<00:00,  6.02it/s]\n",
            "100%|██████████| 445/445 [01:13<00:00,  6.09it/s]\n"
          ],
          "name": "stderr"
        },
        {
          "output_type": "stream",
          "text": [
            "Epoch 2 loss:0.0\n",
            "Done!\n"
          ],
          "name": "stdout"
        },
        {
          "output_type": "display_data",
          "data": {
            "image/png": "[encoded data removed]",
            "text/plain": [
              "<Figure size 432x288 with 1 Axes>"
            ]
          },
          "metadata": {
            "tags": [],
            "needs_background": "light"
          }
        },
        {
          "output_type": "stream",
          "text": [
            "\r  0%|          | 0/112 [00:00<?, ?it/s]"
          ],
          "name": "stderr"
        },
        {
          "output_type": "stream",
          "text": [
            "Evaluate on test set\n"
          ],
          "name": "stdout"
        },
        {
          "output_type": "stream",
          "text": [
            "100%|██████████| 112/112 [00:17<00:00,  6.38it/s]\n"
          ],
          "name": "stderr"
        },
        {
          "output_type": "stream",
          "text": [
            "Evaluation accuracy: 1.0\n",
            "Loading datasets...\n",
            "Done!\n"
          ],
          "name": "stdout"
        },
        {
          "output_type": "stream",
          "text": [
            "\r  0%|          | 0/445 [00:00<?, ?it/s]"
          ],
          "name": "stderr"
        },
        {
          "output_type": "stream",
          "text": [
            "child  4  was not frozen\n",
            "child  5  was not frozen\n",
            "child  6  was not frozen\n",
            "child  7  was not frozen\n",
            "child  8  was not frozen\n",
            "child  9  was not frozen\n",
            "Start training...\n"
          ],
          "name": "stdout"
        },
        {
          "output_type": "stream",
          "text": [
            "100%|██████████| 445/445 [01:22<00:00,  5.37it/s]\n",
            "100%|██████████| 445/445 [01:13<00:00,  6.06it/s]\n",
            "  0%|          | 1/445 [00:00<01:14,  5.94it/s]"
          ],
          "name": "stderr"
        },
        {
          "output_type": "stream",
          "text": [
            "Epoch 1 loss:0.0025197237987716445\n"
          ],
          "name": "stdout"
        },
        {
          "output_type": "stream",
          "text": [
            "100%|██████████| 445/445 [01:14<00:00,  6.01it/s]\n",
            "100%|██████████| 445/445 [01:12<00:00,  6.10it/s]\n"
          ],
          "name": "stderr"
        },
        {
          "output_type": "stream",
          "text": [
            "Epoch 2 loss:2.857450066824313e-10\n",
            "Done!\n"
          ],
          "name": "stdout"
        },
        {
          "output_type": "display_data",
          "data": {
            "image/png": "[encoded data removed]",
            "text/plain": [
              "<Figure size 432x288 with 1 Axes>"
            ]
          },
          "metadata": {
            "tags": [],
            "needs_background": "light"
          }
        },
        {
          "output_type": "stream",
          "text": [
            "\r  0%|          | 0/112 [00:00<?, ?it/s]"
          ],
          "name": "stderr"
        },
        {
          "output_type": "stream",
          "text": [
            "Evaluate on test set\n"
          ],
          "name": "stdout"
        },
        {
          "output_type": "stream",
          "text": [
            "100%|██████████| 112/112 [00:17<00:00,  6.36it/s]\n"
          ],
          "name": "stderr"
        },
        {
          "output_type": "stream",
          "text": [
            "Evaluation accuracy: 1.0\n",
            "Loading datasets...\n",
            "Done!\n"
          ],
          "name": "stdout"
        },
        {
          "output_type": "stream",
          "text": [
            "\r  0%|          | 0/445 [00:00<?, ?it/s]"
          ],
          "name": "stderr"
        },
        {
          "output_type": "stream",
          "text": [
            "child  4  was not frozen\n",
            "child  5  was not frozen\n",
            "child  6  was not frozen\n",
            "child  7  was not frozen\n",
            "child  8  was not frozen\n",
            "child  9  was not frozen\n",
            "Start training...\n"
          ],
          "name": "stdout"
        },
        {
          "output_type": "stream",
          "text": [
            "100%|██████████| 445/445 [01:13<00:00,  6.02it/s]\n",
            "100%|██████████| 445/445 [01:12<00:00,  6.11it/s]\n",
            "  0%|          | 1/445 [00:00<01:12,  6.12it/s]"
          ],
          "name": "stderr"
        },
        {
          "output_type": "stream",
          "text": [
            "Epoch 1 loss:0.002515972787860892\n"
          ],
          "name": "stdout"
        },
        {
          "output_type": "stream",
          "text": [
            "100%|██████████| 445/445 [01:12<00:00,  6.11it/s]\n",
            "100%|██████████| 445/445 [01:12<00:00,  6.11it/s]\n"
          ],
          "name": "stderr"
        },
        {
          "output_type": "stream",
          "text": [
            "Epoch 2 loss:0.0\n",
            "Done!\n"
          ],
          "name": "stdout"
        },
        {
          "output_type": "display_data",
          "data": {
            "image/png": "[encoded data removed]",
            "text/plain": [
              "<Figure size 432x288 with 1 Axes>"
            ]
          },
          "metadata": {
            "tags": [],
            "needs_background": "light"
          }
        },
        {
          "output_type": "stream",
          "text": [
            "\r  0%|          | 0/112 [00:00<?, ?it/s]"
          ],
          "name": "stderr"
        },
        {
          "output_type": "stream",
          "text": [
            "Evaluate on test set\n"
          ],
          "name": "stdout"
        },
        {
          "output_type": "stream",
          "text": [
            "100%|██████████| 112/112 [00:17<00:00,  6.40it/s]\n"
          ],
          "name": "stderr"
        },
        {
          "output_type": "stream",
          "text": [
            "Evaluation accuracy: 1.0\n",
            "Loading datasets...\n",
            "Done!\n"
          ],
          "name": "stdout"
        },
        {
          "output_type": "stream",
          "text": [
            "\r  0%|          | 0/445 [00:00<?, ?it/s]"
          ],
          "name": "stderr"
        },
        {
          "output_type": "stream",
          "text": [
            "child  4  was not frozen\n",
            "child  5  was not frozen\n",
            "child  6  was not frozen\n",
            "child  7  was not frozen\n",
            "child  8  was not frozen\n",
            "child  9  was not frozen\n",
            "Start training...\n"
          ],
          "name": "stdout"
        },
        {
          "output_type": "stream",
          "text": [
            "100%|██████████| 445/445 [01:13<00:00,  6.04it/s]\n",
            "100%|██████████| 445/445 [01:12<00:00,  6.15it/s]\n",
            "  0%|          | 1/445 [00:00<01:11,  6.17it/s]"
          ],
          "name": "stderr"
        },
        {
          "output_type": "stream",
          "text": [
            "Epoch 1 loss:0.0034631114429693553\n"
          ],
          "name": "stdout"
        },
        {
          "output_type": "stream",
          "text": [
            "100%|██████████| 445/445 [01:13<00:00,  6.09it/s]\n",
            "100%|██████████| 445/445 [01:12<00:00,  6.14it/s]\n"
          ],
          "name": "stderr"
        },
        {
          "output_type": "stream",
          "text": [
            "Epoch 2 loss:3.4366411354353606e-06\n",
            "Done!\n"
          ],
          "name": "stdout"
        },
        {
          "output_type": "display_data",
          "data": {
            "image/png": "[encoded data removed]",
            "text/plain": [
              "<Figure size 432x288 with 1 Axes>"
            ]
          },
          "metadata": {
            "tags": [],
            "needs_background": "light"
          }
        },
        {
          "output_type": "stream",
          "text": [
            "\r  0%|          | 0/112 [00:00<?, ?it/s]"
          ],
          "name": "stderr"
        },
        {
          "output_type": "stream",
          "text": [
            "Evaluate on test set\n"
          ],
          "name": "stdout"
        },
        {
          "output_type": "stream",
          "text": [
            "100%|██████████| 112/112 [00:17<00:00,  6.41it/s]\n"
          ],
          "name": "stderr"
        },
        {
          "output_type": "stream",
          "text": [
            "Evaluation accuracy: 1.0\n",
            "Loading datasets...\n",
            "Done!\n"
          ],
          "name": "stdout"
        },
        {
          "output_type": "stream",
          "text": [
            "\r  0%|          | 0/445 [00:00<?, ?it/s]"
          ],
          "name": "stderr"
        },
        {
          "output_type": "stream",
          "text": [
            "child  4  was not frozen\n",
            "child  5  was not frozen\n",
            "child  6  was not frozen\n",
            "child  7  was not frozen\n",
            "child  8  was not frozen\n",
            "child  9  was not frozen\n",
            "Start training...\n"
          ],
          "name": "stdout"
        },
        {
          "output_type": "stream",
          "text": [
            "100%|██████████| 445/445 [01:13<00:00,  6.05it/s]\n",
            "100%|██████████| 445/445 [01:12<00:00,  6.17it/s]\n",
            "  0%|          | 1/445 [00:00<01:15,  5.89it/s]"
          ],
          "name": "stderr"
        },
        {
          "output_type": "stream",
          "text": [
            "Epoch 1 loss:0.0027326288567365085\n"
          ],
          "name": "stdout"
        },
        {
          "output_type": "stream",
          "text": [
            "100%|██████████| 445/445 [01:13<00:00,  6.07it/s]\n",
            "100%|██████████| 445/445 [01:11<00:00,  6.20it/s]\n"
          ],
          "name": "stderr"
        },
        {
          "output_type": "stream",
          "text": [
            "Epoch 2 loss:0.0\n",
            "Done!\n"
          ],
          "name": "stdout"
        },
        {
          "output_type": "display_data",
          "data": {
            "image/png": "[encoded data removed]",
            "text/plain": [
              "<Figure size 432x288 with 1 Axes>"
            ]
          },
          "metadata": {
            "tags": [],
            "needs_background": "light"
          }
        },
        {
          "output_type": "stream",
          "text": [
            "\r  0%|          | 0/112 [00:00<?, ?it/s]"
          ],
          "name": "stderr"
        },
        {
          "output_type": "stream",
          "text": [
            "Evaluate on test set\n"
          ],
          "name": "stdout"
        },
        {
          "output_type": "stream",
          "text": [
            "100%|██████████| 112/112 [00:17<00:00,  6.51it/s]"
          ],
          "name": "stderr"
        },
        {
          "output_type": "stream",
          "text": [
            "Evaluation accuracy: 1.0\n",
            "Average Accuracy: 1.0\n"
          ],
          "name": "stdout"
        },
        {
          "output_type": "stream",
          "text": [
            "\n"
          ],
          "name": "stderr"
        }
      ]
    }
  ]
}