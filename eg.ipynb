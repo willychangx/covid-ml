{
  "nbformat": 4,
  "nbformat_minor": 0,
  "metadata": {
    "colab": {
      "name": "eg.ipynb",
      "provenance": [],
      "mount_file_id": "1NyQDlQttDYzOCtz1yQry1FuVREFSvIAP",
      "authorship_tag": "ABX9TyPpw4e8OtU87pxFH9iS26u1",
      "include_colab_link": true
    },
    "kernelspec": {
      "name": "python3",
      "display_name": "Python 3"
    },
    "accelerator": "GPU",
    "widgets": {
      "application/vnd.jupyter.widget-state+json": {
        "7940423333eb4c53bfdd3e5923a2b6b0": {
          "model_module": "@jupyter-widgets/controls",
          "model_name": "HBoxModel",
          "state": {
            "_view_name": "HBoxView",
            "_dom_classes": [],
            "_model_name": "HBoxModel",
            "_view_module": "@jupyter-widgets/controls",
            "_model_module_version": "1.5.0",
            "_view_count": null,
            "_view_module_version": "1.5.0",
            "box_style": "",
            "layout": "IPY_MODEL_94b558f0302347faa32a2aff64259920",
            "_model_module": "@jupyter-widgets/controls",
            "children": [
              "IPY_MODEL_831804f9981b4787ad0da4269441818e",
              "IPY_MODEL_74840d3cb1ae470f8fe9740b390be386"
            ]
          }
        },
        "94b558f0302347faa32a2aff64259920": {
          "model_module": "@jupyter-widgets/base",
          "model_name": "LayoutModel",
          "state": {
            "_view_name": "LayoutView",
            "grid_template_rows": null,
            "right": null,
            "justify_content": null,
            "_view_module": "@jupyter-widgets/base",
            "overflow": null,
            "_model_module_version": "1.2.0",
            "_view_count": null,
            "flex_flow": null,
            "width": null,
            "min_width": null,
            "border": null,
            "align_items": null,
            "bottom": null,
            "_model_module": "@jupyter-widgets/base",
            "top": null,
            "grid_column": null,
            "overflow_y": null,
            "overflow_x": null,
            "grid_auto_flow": null,
            "grid_area": null,
            "grid_template_columns": null,
            "flex": null,
            "_model_name": "LayoutModel",
            "justify_items": null,
            "grid_row": null,
            "max_height": null,
            "align_content": null,
            "visibility": null,
            "align_self": null,
            "height": null,
            "min_height": null,
            "padding": null,
            "grid_auto_rows": null,
            "grid_gap": null,
            "max_width": null,
            "order": null,
            "_view_module_version": "1.2.0",
            "grid_template_areas": null,
            "object_position": null,
            "object_fit": null,
            "grid_auto_columns": null,
            "margin": null,
            "display": null,
            "left": null
          }
        },
        "831804f9981b4787ad0da4269441818e": {
          "model_module": "@jupyter-widgets/controls",
          "model_name": "FloatProgressModel",
          "state": {
            "_view_name": "ProgressView",
            "style": "IPY_MODEL_e4838b751b3b47eb815dce858274d814",
            "_dom_classes": [],
            "description": "100%",
            "_model_name": "FloatProgressModel",
            "bar_style": "success",
            "max": 102502400,
            "_view_module": "@jupyter-widgets/controls",
            "_model_module_version": "1.5.0",
            "value": 102502400,
            "_view_count": null,
            "_view_module_version": "1.5.0",
            "orientation": "horizontal",
            "min": 0,
            "description_tooltip": null,
            "_model_module": "@jupyter-widgets/controls",
            "layout": "IPY_MODEL_e62f907b99c04e5c97ff3a98abde6c8f"
          }
        },
        "74840d3cb1ae470f8fe9740b390be386": {
          "model_module": "@jupyter-widgets/controls",
          "model_name": "HTMLModel",
          "state": {
            "_view_name": "HTMLView",
            "style": "IPY_MODEL_fa5cdb0680f747f3920d738060180516",
            "_dom_classes": [],
            "description": "",
            "_model_name": "HTMLModel",
            "placeholder": "​",
            "_view_module": "@jupyter-widgets/controls",
            "_model_module_version": "1.5.0",
            "value": " 97.8M/97.8M [01:33&lt;00:00, 1.10MB/s]",
            "_view_count": null,
            "_view_module_version": "1.5.0",
            "description_tooltip": null,
            "_model_module": "@jupyter-widgets/controls",
            "layout": "IPY_MODEL_191edfaa58e2436db49ddfc0b89e4bf8"
          }
        },
        "e4838b751b3b47eb815dce858274d814": {
          "model_module": "@jupyter-widgets/controls",
          "model_name": "ProgressStyleModel",
          "state": {
            "_view_name": "StyleView",
            "_model_name": "ProgressStyleModel",
            "description_width": "initial",
            "_view_module": "@jupyter-widgets/base",
            "_model_module_version": "1.5.0",
            "_view_count": null,
            "_view_module_version": "1.2.0",
            "bar_color": null,
            "_model_module": "@jupyter-widgets/controls"
          }
        },
        "e62f907b99c04e5c97ff3a98abde6c8f": {
          "model_module": "@jupyter-widgets/base",
          "model_name": "LayoutModel",
          "state": {
            "_view_name": "LayoutView",
            "grid_template_rows": null,
            "right": null,
            "justify_content": null,
            "_view_module": "@jupyter-widgets/base",
            "overflow": null,
            "_model_module_version": "1.2.0",
            "_view_count": null,
            "flex_flow": null,
            "width": null,
            "min_width": null,
            "border": null,
            "align_items": null,
            "bottom": null,
            "_model_module": "@jupyter-widgets/base",
            "top": null,
            "grid_column": null,
            "overflow_y": null,
            "overflow_x": null,
            "grid_auto_flow": null,
            "grid_area": null,
            "grid_template_columns": null,
            "flex": null,
            "_model_name": "LayoutModel",
            "justify_items": null,
            "grid_row": null,
            "max_height": null,
            "align_content": null,
            "visibility": null,
            "align_self": null,
            "height": null,
            "min_height": null,
            "padding": null,
            "grid_auto_rows": null,
            "grid_gap": null,
            "max_width": null,
            "order": null,
            "_view_module_version": "1.2.0",
            "grid_template_areas": null,
            "object_position": null,
            "object_fit": null,
            "grid_auto_columns": null,
            "margin": null,
            "display": null,
            "left": null
          }
        },
        "fa5cdb0680f747f3920d738060180516": {
          "model_module": "@jupyter-widgets/controls",
          "model_name": "DescriptionStyleModel",
          "state": {
            "_view_name": "StyleView",
            "_model_name": "DescriptionStyleModel",
            "description_width": "",
            "_view_module": "@jupyter-widgets/base",
            "_model_module_version": "1.5.0",
            "_view_count": null,
            "_view_module_version": "1.2.0",
            "_model_module": "@jupyter-widgets/controls"
          }
        },
        "191edfaa58e2436db49ddfc0b89e4bf8": {
          "model_module": "@jupyter-widgets/base",
          "model_name": "LayoutModel",
          "state": {
            "_view_name": "LayoutView",
            "grid_template_rows": null,
            "right": null,
            "justify_content": null,
            "_view_module": "@jupyter-widgets/base",
            "overflow": null,
            "_model_module_version": "1.2.0",
            "_view_count": null,
            "flex_flow": null,
            "width": null,
            "min_width": null,
            "border": null,
            "align_items": null,
            "bottom": null,
            "_model_module": "@jupyter-widgets/base",
            "top": null,
            "grid_column": null,
            "overflow_y": null,
            "overflow_x": null,
            "grid_auto_flow": null,
            "grid_area": null,
            "grid_template_columns": null,
            "flex": null,
            "_model_name": "LayoutModel",
            "justify_items": null,
            "grid_row": null,
            "max_height": null,
            "align_content": null,
            "visibility": null,
            "align_self": null,
            "height": null,
            "min_height": null,
            "padding": null,
            "grid_auto_rows": null,
            "grid_gap": null,
            "max_width": null,
            "order": null,
            "_view_module_version": "1.2.0",
            "grid_template_areas": null,
            "object_position": null,
            "object_fit": null,
            "grid_auto_columns": null,
            "margin": null,
            "display": null,
            "left": null
          }
        }
      }
    }
  },
  "cells": [
    {
      "cell_type": "markdown",
      "metadata": {
        "id": "view-in-github",
        "colab_type": "text"
      },
      "source": [
        "<a href=\"https://colab.research.google.com/github/willychangx/covid-ml/blob/main/eg.ipynb\" target=\"_parent\"><img src=\"https://colab.research.google.com/assets/colab-badge.svg\" alt=\"Open In Colab\"/></a>"
      ]
    },
    {
      "cell_type": "code",
      "metadata": {
        "id": "yhBc_qZHlxEM"
      },
      "source": [
        "# Download folders. You don't need to change anything, you'll be downloading from my Google Drive.\n",
        "\n",
        "%%capture\n",
        "\n",
        "# Others.zip\n",
        "!gdown https://drive.google.com/uc?id=1L9dHYx2EwywfH3bWAcWPSDRCy-VsA8mX\n",
        "!unzip /content/Others.zip -d /content\n",
        "\n",
        "# Healthy.zip\n",
        "!gdown https://drive.google.com/uc?id=1FQMhrVAvzBp38bMDpXnRbJZ6ghnNEKBb\n",
        "!unzip /content/Healthy.zip -d /content\n",
        "\n",
        "# Covid.zip\n",
        "!gdown https://drive.google.com/uc?id=1CHCjoLEcf4imlgxp2EEphZKmiyTV6-vQ\n",
        "!unzip /content/Covid.zip -d /content\n",
        "%cd /content"
      ],
      "execution_count": 1,
      "outputs": []
    },
    {
      "cell_type": "code",
      "metadata": {
        "id": "YuMEmaHt17s4"
      },
      "source": [
        "# Import libraries for the training\n",
        "import numpy as np\n",
        "import matplotlib.pyplot as plt\n",
        "from tqdm import tqdm # Displays a progress bar\n",
        "\n",
        "import torch\n",
        "from torch import nn\n",
        "from torch import optim\n",
        "import torch.nn.functional as F\n",
        "from torchvision import datasets, transforms, models\n",
        "from torch.utils.data import Dataset, Subset, DataLoader, random_split\n",
        "import torchvision.models as models\n",
        "from PIL import Image\n",
        "\n",
        "import os\n",
        "import cv2\n",
        "import shutil\n",
        "import math\n",
        "import random"
      ],
      "execution_count": 2,
      "outputs": []
    },
    {
      "cell_type": "code",
      "metadata": {
        "id": "Lqb0c8q5dRkl"
      },
      "source": [
        "# Parameters for the training\n",
        "params = {\n",
        "    \"mean\": [0.5, 0.5, 0.5], # mean subtracted from the pixel values to give optimal\n",
        "    \"std\": [0.5, 0.5, 0.5], # same as mean, but with standard deviation\n",
        "    \"batch\": 10, # batch size (samples per epoch)\n",
        "    \"child\": 5, # [0, 50), number of layers of resnet to freeze\n",
        "    \"childchild\": 3, # number of child_child to freeze\n",
        "    \"num_out\": 32, # output of architecture\n",
        "    \"fc1True\": True, # use bias for linear fully convolutional\n",
        "    \"fc2True\": True, # use bias for linear fully convolutional\n",
        "    \"lr\": 1e-3, # learning rate for adam optimizer\n",
        "    \"wd\": 0.1, # weight decay for adam optimizer\n",
        "    \"epochs\": 1, # number of epochs (iterations)\n",
        "    \"percent\": 0.20, # % of the dataset to split up (1/percent = # of folds for cross validation)\n",
        "}"
      ],
      "execution_count": 3,
      "outputs": []
    },
    {
      "cell_type": "code",
      "metadata": {
        "id": "zOUP_kx52IC8",
        "colab": {
          "base_uri": "https://localhost:8080/"
        },
        "outputId": "29eb7021-4557-4c36-f6cf-3699dc16a110"
      },
      "source": [
        "# Declare the types of classification\n",
        "types = ['Covid', 'Others', 'Healthy']\n",
        "newFolderPath = []\n",
        "\n",
        "# Input: Single folder name\n",
        "# Output: Combine all images in subfolders into one folder called ./new_{patientType}\n",
        "def combine_images(patientType):\n",
        "    origDir = os.getcwd()\n",
        "    currDir = origDir + '/' + patientType\n",
        "    newFolder = origDir + '/new_' + patientType\n",
        "    newFolderPath.append(newFolder)\n",
        "\n",
        "    # If the folder to be created exists, delete and create a new one\n",
        "    if os.path.isdir(newFolder):\n",
        "        shutil.rmtree(newFolder)\n",
        "    os.mkdir(newFolder)\n",
        "    index = 0\n",
        "\n",
        "    # Start going through each folder to extract image and paste into a new folder\n",
        "    for folder in os.listdir(currDir):\n",
        "        if os.path.isdir(currDir + '/' + folder):\n",
        "            for filename in os.listdir(currDir + '/' + folder):\n",
        "                if filename.endswith(\".png\"):\n",
        "                    img = cv2.imread(currDir + '/' + folder + '/' + filename)\n",
        "                    img = cv2.resize(img, (224, 224), interpolation=cv2.INTER_CUBIC)\n",
        "                    cv2.imwrite(newFolder + '/' + str(index) + '.png', img)\n",
        "                    index += 1\n",
        "                    # Rotate images by 90, 180, 270 to increase the dataset\n",
        "                    for x in range(3):\n",
        "                        img = cv2.rotate(img, cv2.ROTATE_90_CLOCKWISE)\n",
        "                        cv2.imwrite(newFolder + '/' + str(index) + '.png', img)\n",
        "                        index += 1\n",
        "    # In case you already have the folders and don't want to go through everything\n",
        "    # if patientType == 'Covid':\n",
        "    #     index = 8668\n",
        "    # elif patientType == 'Others':\n",
        "    #     index = 4988\n",
        "    # else:\n",
        "    #     index = 3028\n",
        "    \n",
        "    print(f\"Folder {patientType}: {index} files\")\n",
        "\n",
        "# For each classification folder, combine all images into a new folder    \n",
        "for name in types:\n",
        "    combine_images(name)"
      ],
      "execution_count": 4,
      "outputs": [
        {
          "output_type": "stream",
          "text": [
            "Folder Covid: 8668 files\n",
            "Folder Others: 4988 files\n",
            "Folder Healthy: 3028 files\n"
          ],
          "name": "stdout"
        }
      ]
    },
    {
      "cell_type": "code",
      "metadata": {
        "id": "Nn1ZqijAZ5Rx"
      },
      "source": [
        "# Input: An array of paths to the new folders\n",
        "# Output: 5 new folders with 20% of the dataset each\n",
        "def cross_validation_segments(paths) -> list:\n",
        "    # Check if folders exist; Delete and make new if they do\n",
        "    currDir = os.getcwd()\n",
        "    randList = []\n",
        "    for i in range(5):\n",
        "        if os.path.isdir('Rand' + str(i)):\n",
        "            shutil.rmtree('Rand' + str(i))\n",
        "        os.mkdir('Rand' + str(i))\n",
        "        randList.append(currDir + '/Rand' + str(i))\n",
        "\n",
        "    arrIdx = [0 for i in range((int)(1/params[\"percent\"]))]\n",
        "    idx = 0\n",
        "    arr = []\n",
        "    id = 0\n",
        "\n",
        "    # Create an array of all images and paths\n",
        "    for path in paths:\n",
        "        arr = [path + '/' + folder for folder in os.listdir(path)]\n",
        "        # While there are still elements in the array\n",
        "        while len(arr):\n",
        "            # Randomly choose an image and place them into a folder\n",
        "            val = random.randrange(len(arr))\n",
        "            shutil.copyfile(arr[val], './Rand' + str(idx) + '/' + str(id) + '_' + str(arrIdx[idx]) + '.png')\n",
        "            del arr[val]\n",
        "            arrIdx[idx] += 1\n",
        "            idx += 1\n",
        "            idx %= 5\n",
        "        id += 1\n",
        "    return randList\n",
        "\n",
        "randFolders = cross_validation_segments(newFolderPath)"
      ],
      "execution_count": 5,
      "outputs": []
    },
    {
      "cell_type": "code",
      "metadata": {
        "id": "G23v3TADhcWk"
      },
      "source": [
        "def get_full_dataset(paths):\n",
        "    if os.path.isdir('./All'):\n",
        "        shutil.rmtree('./All')\n",
        "    os.mkdir('All')\n",
        "    idx = 0\n",
        "    for path in paths:\n",
        "        for folder in os.listdir(path):\n",
        "            shutil.copyfile(path + '/' + folder, './All/' + str(idx) + '.png')\n",
        "            idx += 1\n",
        "\n",
        "get_full_dataset(newFolderPath)"
      ],
      "execution_count": 6,
      "outputs": []
    },
    {
      "cell_type": "code",
      "metadata": {
        "id": "8FYuhhfqspyW"
      },
      "source": [
        "# Input: Path\n",
        "# Output: Array of images in path\n",
        "def read_images(path) -> list:\n",
        "    images = [cv2.imread(path + '/' + img) for img in os.listdir(path)]\n",
        "    return images\n",
        "\n",
        "# Input: Path\n",
        "# Output: Array of numbers (labels)\n",
        "def read_labels(path) -> list:\n",
        "    labels = []\n",
        "    store = []\n",
        "    for i, lbl in enumerate(os.listdir(path)):\n",
        "        num = open(path + '/' + lbl, \"r\").read()\n",
        "        if not num.isdigit():\n",
        "            store.append(i)\n",
        "        labels.append(num)\n",
        "    return labels, store\n",
        "\n",
        "# DataSet class to override some Dataset methods (functions)\n",
        "class DataSet(Dataset):\n",
        "    \n",
        "    def __init__(self, root, iteration, randFolders, transform=None):\n",
        "        idx = 0\n",
        "        currDir = os.getcwd()\n",
        "        train = False\n",
        "\n",
        "        # Create the ./Dataset/{Train/Test}/{image/label} folders\n",
        "        folderNames = root.split('/')\n",
        "        for name in folderNames:\n",
        "            if name != '.' and name != '':\n",
        "                try:\n",
        "                    os.mkdir(name)\n",
        "                    os.chdir(name)\n",
        "                except:\n",
        "                    os.chdir(name)\n",
        "            if name == 'Train':\n",
        "                train = True\n",
        "        \n",
        "        os.mkdir('image')\n",
        "        os.mkdir('label')\n",
        "\n",
        "        # If it's not the training folder, use only one Rand folder\n",
        "        if not train:\n",
        "            for file in os.listdir(randFolders[iteration]):\n",
        "                id = file.split('_')[0]\n",
        "                if id != '':\n",
        "                    shutil.copy2(randFolders[iteration] + '/' + str(file), './image/' + str(idx).zfill(5) + '.png')\n",
        "                    fp = open(\"./label/\" + str(idx).zfill(5) + '.txt', 'w')\n",
        "                    fp.write(id)\n",
        "                    idx += 1\n",
        "        # Otherwise, use the other folders\n",
        "        else:\n",
        "            for num, folder in enumerate(randFolders):\n",
        "                if num != iteration:\n",
        "                    for file in os.listdir(folder):\n",
        "                        id = file.split('_')[0]\n",
        "                        if id != '':\n",
        "                            shutil.copy2(folder + '/' + str(file), './image/' + str(idx).zfill(5) + '.png')\n",
        "                            fp = open(\"./label/\" + str(idx).zfill(5) + '.txt', \"w\")\n",
        "                            fp.write(id)\n",
        "                            idx += 1\n",
        "      \n",
        "        os.chdir(currDir)\n",
        "\n",
        "        lab, getRid = read_labels(root + \"/label\")\n",
        "        imag = read_images(root + \"/image\")\n",
        "\n",
        "        for i in getRid:\n",
        "            del lab[i]\n",
        "            del imag[i]\n",
        "\n",
        "        self.transform = transform\n",
        "        self.ROOT = root\n",
        "        self.images = imag\n",
        "        self.labels = lab\n",
        "        \n",
        "    def __len__(self):\n",
        "        # Return number of points in the dataset\n",
        "\n",
        "        return len(self.images)\n",
        "\n",
        "    def __getitem__(self, idx):\n",
        "        # Here we have to return the item requested by `idx`. The PyTorch DataLoader class will use this method to make an iterable for training/validation loop.\n",
        "\n",
        "        img = Image.fromarray(cv2.cvtColor(self.images[idx], cv2.COLOR_BGR2RGB))\n",
        "        label = int(self.labels[idx])\n",
        "\n",
        "        if self.transform is not None:\n",
        "            img = self.transform(img)\n",
        "\n",
        "        return img, label"
      ],
      "execution_count": 18,
      "outputs": []
    },
    {
      "cell_type": "code",
      "metadata": {
        "id": "53FWd3bwsRRR"
      },
      "source": [
        "class Network(nn.Module):\n",
        "    def __init__(self):\n",
        "        super().__init__()\n",
        "        # TODO: [Transfer learning with pre-trained ResNet-50] 1) Define how many first layers of convolutoinal neural network (CNN) feature extractor in ResNet-50 to be \"frozen\" and 2) design your own fully-connected network (FCN) classifier.\n",
        "        # 1) You will only refine last several layers of CNN feature extractor in ResNet-50 that mainly relate to high-level vision task. Determine how many first layers of ResNet-50 should be frozen to achieve best performances. Commented codes below will help you understand the architecture, i.e., \"children\", of ResNet-50.\n",
        "        # 2) Design your own FCN classifier. Here I provide a sample of two-layer FCN.\n",
        "        # Refer to PyTorch documentations of torch.nn to pick your layers. (https://pytorch.org/docs/stable/nn.html)\n",
        "        # Some common Choices are: Linear, ReLU, Dropout, MaxPool2d, AvgPool2d\n",
        "        # If you have many layers, consider using nn.Sequential() to simplify your code\n",
        "        \n",
        "        # Load pretrained ResNet-50\n",
        "        self.model_resnet = models.resnet50(pretrained=True)\n",
        "        \n",
        "        # The code below can show children of ResNet-50\n",
        "        # child_counter = 0\n",
        "        # for child in self.model_resnet.children():\n",
        "        #    print(\" child\", child_counter, \"is -\")\n",
        "        #    print(child)\n",
        "        #    child_counter += 1\n",
        "        \n",
        "        # TODO: Determine how many first layers of ResNet-50 to freeze\n",
        "        child_counter = 0\n",
        "        for child in self.model_resnet.children():\n",
        "            if child_counter < params['child']:\n",
        "                for param in child.parameters():\n",
        "                    param.requires_grad = False\n",
        "            elif child_counter == params['child']:\n",
        "                children_of_child_counter = 0\n",
        "                for children_of_child in child.children():\n",
        "                    if children_of_child_counter < params['childchild']:\n",
        "                        for param in children_of_child.parameters():\n",
        "                            param.requires_grad = False\n",
        "                    else:\n",
        "                        children_of_child_counter += 1\n",
        "            else:\n",
        "                print(\"child \",child_counter,\" was not frozen\")\n",
        "            child_counter += 1\n",
        "        \n",
        "        # Set ResNet-50's FCN as an identity mapping\n",
        "        num_fc_in = self.model_resnet.fc.in_features\n",
        "        self.model_resnet.fc = nn.Identity()\n",
        "        \n",
        "        # TODO: Design your own FCN\n",
        "        self.fc1 = nn.Linear(num_fc_in, params['num_out'], bias = params['fc1True']) # from input of size num_fc_in to output of size ?\n",
        "        self.fc2 = nn.Linear(params['num_out'], 3, bias = params['fc2True']) # from hidden layer to 3 class scores\n",
        "\n",
        "    def forward(self,x):\n",
        "        # TODO: Design your own network, implement forward pass here\n",
        "        \n",
        "        relu = nn.ReLU() # No need to define self.relu because it contains no parameters\n",
        "        \n",
        "        with torch.no_grad():\n",
        "            features = self.model_resnet(x)\n",
        "            \n",
        "        x = self.fc1(features) # Activation are flattened before being passed to the fully connected layers\n",
        "        x = relu(x)\n",
        "        x = self.fc2(x)\n",
        "        \n",
        "        # The loss layer will be applied outside Network class\n",
        "        return x"
      ],
      "execution_count": 8,
      "outputs": []
    },
    {
      "cell_type": "code",
      "metadata": {
        "id": "bjye31G9reeE",
        "colab": {
          "base_uri": "https://localhost:8080/",
          "height": 1000,
          "referenced_widgets": [
            "7940423333eb4c53bfdd3e5923a2b6b0",
            "94b558f0302347faa32a2aff64259920",
            "831804f9981b4787ad0da4269441818e",
            "74840d3cb1ae470f8fe9740b390be386",
            "e4838b751b3b47eb815dce858274d814",
            "e62f907b99c04e5c97ff3a98abde6c8f",
            "fa5cdb0680f747f3920d738060180516",
            "191edfaa58e2436db49ddfc0b89e4bf8"
          ]
        },
        "outputId": "ca999ab1-4264-4575-83e1-0f978cf74cd3"
      },
      "source": [
        "acc = []\n",
        "\n",
        "# n-Fold\n",
        "for i in range((int)(1/params['percent'])):\n",
        "## SINGLE FOLD\n",
        "# for i in range(1):\n",
        "    if os.path.isdir('Dataset'):\n",
        "        shutil.rmtree('Dataset')\n",
        "\n",
        "    print(f\"Running {i} fold...\")\n",
        "    # Load the dataset and train and test splits\n",
        "    print(\"Loading datasets...\")\n",
        "\n",
        "    # Data normalization\n",
        "    MyTransform = transforms.Compose([\n",
        "        transforms.Grayscale(num_output_channels=3), # Convert image to grayscale\n",
        "        transforms.ToTensor(), # Transform from [0,255] uint8 to [0,1] float\n",
        "        transforms.Normalize(params['mean'], params['std']) # TODO: Normalize to zero mean and unit variance with appropriate parameters\n",
        "    ])\n",
        "\n",
        "    # Data path\n",
        "    DATA_train_path = DataSet('./Dataset/Train', i, randFolders, transform=MyTransform)\n",
        "    DATA_test_path = DataSet('./Dataset/Test', i, randFolders, transform=MyTransform)\n",
        "\n",
        "    # DATA_train = datasets.ImageFolder(root=DATA_train_path.ROOT, transform=MyTransform)\n",
        "    # DATA_test = datasets.ImageFolder(root=DATA_test_path.ROOT, transform=MyTransform)\n",
        "    DATA_test = DATA_test_path\n",
        "    DATA_train = DATA_train_path\n",
        "\n",
        "    print(\"Done!\")\n",
        "\n",
        "    # Create dataloaders\n",
        "    # TODO: Experiment with different batch sizes\n",
        "    trainloader = DataLoader(DATA_train, batch_size=params['batch'], shuffle=True, drop_last=True)\n",
        "    testloader = DataLoader(DATA_test, batch_size=params['batch'], shuffle=True, drop_last=True)\n",
        "\n",
        "    device = \"cuda\" if torch.cuda.is_available() else \"cpu\" # Configure device\n",
        "    model = Network().to(device)\n",
        "\n",
        "    criterion = nn.CrossEntropyLoss() # Specify the loss layer (note: CrossEntropyLoss already includes LogSoftMax())\n",
        "    # TODO: Modify the line below, experiment with different optimizers and parameters (such as learning rate)\n",
        "    optimizer = optim.Adam(filter(lambda p: p.requires_grad, model.parameters()), lr=params['lr'], weight_decay=params['wd']) # Specify optimizer and assign trainable parameters to it, weight_decay is L2 regularization strength (default: lr=1e-2, weight_decay=1e-4)\n",
        "    num_epochs = params['epochs'] # TODO: Choose an appropriate number of training epochs\n",
        "    \n",
        "    def train(model, loader, test, num_epoch = num_epochs): # Train the model\n",
        "        print(\"Start training...\")\n",
        "        model.train() # Set the model to training mode\n",
        "        trainingLoss = []\n",
        "        testingLoss = []\n",
        "        for i in range(num_epoch):\n",
        "            running_loss = []\n",
        "            test_loss = []\n",
        "            for batch, label in tqdm(loader):\n",
        "                batch = batch.to(device)\n",
        "                label = label.to(device)\n",
        "                optimizer.zero_grad() # Clear gradients from the previous iteration\n",
        "                pred = model(batch) # This will call Network.forward() that you implement\n",
        "                loss = criterion(pred, label) # Calculate the loss\n",
        "                running_loss.append(loss.item())\n",
        "                loss.backward() # Backprop gradients to all tensors in the network\n",
        "                optimizer.step() # Update trainable weights\n",
        "            print(\"Epoch {} training loss:{}\".format(i+1,np.mean(running_loss))) # Print the average loss for this epoch\n",
        "            with torch.no_grad():\n",
        "                for batch, label in tqdm(test):\n",
        "                    batch = batch.to(device)\n",
        "                    label = label.to(device)\n",
        "                    optimizer.zero_grad() # Clear gradients from the previous iteration\n",
        "                    pred = model(batch) # This will call Network.forward() that you implement\n",
        "                    loss = criterion(pred, label) # Calculate the loss\n",
        "                    test_loss.append(loss.item())\n",
        "            print(\"Epoch {} testing loss:{}\".format(i+1,np.mean(running_loss))) # Print the average loss for this epoch\n",
        "            trainingLoss.append(np.mean(running_loss))\n",
        "            testingLoss.append(np.mean(test_loss))\n",
        "        print(\"Done!\")\n",
        "        plt.plot(trainingLoss, color='blue', label=\"train\")\n",
        "        plt.plot(testingLoss, color='olive', label=\"test\")\n",
        "        plt.ylabel('loss')\n",
        "        plt.xlabel('epoch')\n",
        "        plt.legend()\n",
        "        plt.show()\n",
        "\n",
        "    def evaluate(model, loader): # Evaluate accuracy on validation / test set\n",
        "        model.eval() # Set the model to evaluation mode\n",
        "        correct = 0\n",
        "        with torch.no_grad(): # Do not calculate grident to speed up computation\n",
        "            for batch, label in tqdm(loader):\n",
        "                batch = batch.to(device)\n",
        "                label = label.to(device)\n",
        "                pred = model(batch)\n",
        "                correct += (torch.argmax(pred,dim=1)==label).sum().item()\n",
        "        acc = correct/len(loader.dataset)\n",
        "        print(\"Evaluation accuracy: {}\".format(acc))\n",
        "        return acc\n",
        "      \n",
        "    train(model, trainloader, testloader, num_epochs)\n",
        "    print(\"Evaluate on test set\")\n",
        "    acc.append(evaluate(model, testloader))\n",
        "\n",
        "print(f\"Average Accuracy: {np.mean(acc)}\")"
      ],
      "execution_count": 19,
      "outputs": [
        {
          "output_type": "stream",
          "text": [
            "Running 0 fold...\n",
            "Loading datasets...\n",
            "Done!\n"
          ],
          "name": "stdout"
        },
        {
          "output_type": "stream",
          "text": [
            "Downloading: \"https://download.pytorch.org/models/resnet50-19c8e357.pth\" to /root/.cache/torch/hub/checkpoints/resnet50-19c8e357.pth\n"
          ],
          "name": "stderr"
        },
        {
          "output_type": "display_data",
          "data": {
            "application/vnd.jupyter.widget-view+json": {
              "model_id": "7940423333eb4c53bfdd3e5923a2b6b0",
              "version_minor": 0,
              "version_major": 2
            },
            "text/plain": [
              "HBox(children=(FloatProgress(value=0.0, max=102502400.0), HTML(value='')))"
            ]
          },
          "metadata": {
            "tags": []
          }
        },
        {
          "output_type": "stream",
          "text": [
            "\n",
            "child  6  was not frozen\n",
            "child  7  was not frozen\n",
            "child  8  was not frozen\n",
            "child  9  was not frozen\n"
          ],
          "name": "stdout"
        },
        {
          "output_type": "stream",
          "text": [
            "\r  0%|          | 0/1334 [00:00<?, ?it/s]"
          ],
          "name": "stderr"
        },
        {
          "output_type": "stream",
          "text": [
            "Start training...\n"
          ],
          "name": "stdout"
        },
        {
          "output_type": "stream",
          "text": [
            "100%|██████████| 1334/1334 [01:03<00:00, 21.09it/s]\n",
            "  1%|          | 3/333 [00:00<00:15, 21.92it/s]"
          ],
          "name": "stderr"
        },
        {
          "output_type": "stream",
          "text": [
            "Epoch 1 training loss:1.0230361441711615\n"
          ],
          "name": "stdout"
        },
        {
          "output_type": "stream",
          "text": [
            "100%|██████████| 333/333 [00:15<00:00, 21.77it/s]\n"
          ],
          "name": "stderr"
        },
        {
          "output_type": "stream",
          "text": [
            "Epoch 1 testing loss:1.0230361441711615\n",
            "Done!\n"
          ],
          "name": "stdout"
        },
        {
          "output_type": "display_data",
          "data": {
            "image/png": "[encoded data removed]",
            "text/plain": [
              "<Figure size 432x288 with 1 Axes>"
            ]
          },
          "metadata": {
            "tags": [],
            "needs_background": "light"
          }
        },
        {
          "output_type": "stream",
          "text": [
            "\r  0%|          | 0/333 [00:00<?, ?it/s]"
          ],
          "name": "stderr"
        },
        {
          "output_type": "stream",
          "text": [
            "Evaluate on test set\n"
          ],
          "name": "stdout"
        },
        {
          "output_type": "stream",
          "text": [
            "100%|██████████| 333/333 [00:14<00:00, 22.69it/s]\n"
          ],
          "name": "stderr"
        },
        {
          "output_type": "stream",
          "text": [
            "Evaluation accuracy: 0.5188848920863309\n",
            "Running 1 fold...\n",
            "Loading datasets...\n"
          ],
          "name": "stdout"
        },
        {
          "output_type": "error",
          "ename": "KeyboardInterrupt",
          "evalue": "ignored",
          "traceback": [
            "\u001b[0;31m---------------------------------------------------------------------------\u001b[0m",
            "\u001b[0;31mKeyboardInterrupt\u001b[0m                         Traceback (most recent call last)",
            "\u001b[0;32m<ipython-input-19-48b9e722b4b2>\u001b[0m in \u001b[0;36m<module>\u001b[0;34m()\u001b[0m\n\u001b[1;32m     18\u001b[0m     \u001b[0;31m# Data path\u001b[0m\u001b[0;34m\u001b[0m\u001b[0;34m\u001b[0m\u001b[0;34m\u001b[0m\u001b[0m\n\u001b[1;32m     19\u001b[0m     \u001b[0mDATA_train_path\u001b[0m \u001b[0;34m=\u001b[0m \u001b[0mDataSet\u001b[0m\u001b[0;34m(\u001b[0m\u001b[0;34m'./Dataset/Train'\u001b[0m\u001b[0;34m,\u001b[0m \u001b[0mi\u001b[0m\u001b[0;34m,\u001b[0m \u001b[0mrandFolders\u001b[0m\u001b[0;34m,\u001b[0m \u001b[0mtransform\u001b[0m\u001b[0;34m=\u001b[0m\u001b[0mMyTransform\u001b[0m\u001b[0;34m)\u001b[0m\u001b[0;34m\u001b[0m\u001b[0;34m\u001b[0m\u001b[0m\n\u001b[0;32m---> 20\u001b[0;31m     \u001b[0mDATA_test_path\u001b[0m \u001b[0;34m=\u001b[0m \u001b[0mDataSet\u001b[0m\u001b[0;34m(\u001b[0m\u001b[0;34m'./Dataset/Test'\u001b[0m\u001b[0;34m,\u001b[0m \u001b[0mi\u001b[0m\u001b[0;34m,\u001b[0m \u001b[0mrandFolders\u001b[0m\u001b[0;34m,\u001b[0m \u001b[0mtransform\u001b[0m\u001b[0;34m=\u001b[0m\u001b[0mMyTransform\u001b[0m\u001b[0;34m)\u001b[0m\u001b[0;34m\u001b[0m\u001b[0;34m\u001b[0m\u001b[0m\n\u001b[0m\u001b[1;32m     21\u001b[0m \u001b[0;34m\u001b[0m\u001b[0m\n\u001b[1;32m     22\u001b[0m     \u001b[0;31m# DATA_train = datasets.ImageFolder(root=DATA_train_path.ROOT, transform=MyTransform)\u001b[0m\u001b[0;34m\u001b[0m\u001b[0;34m\u001b[0m\u001b[0;34m\u001b[0m\u001b[0m\n",
            "\u001b[0;32m<ipython-input-18-b062ba463852>\u001b[0m in \u001b[0;36m__init__\u001b[0;34m(self, root, iteration, randFolders, transform)\u001b[0m\n\u001b[1;32m     45\u001b[0m                 \u001b[0mid\u001b[0m \u001b[0;34m=\u001b[0m \u001b[0mfile\u001b[0m\u001b[0;34m.\u001b[0m\u001b[0msplit\u001b[0m\u001b[0;34m(\u001b[0m\u001b[0;34m'_'\u001b[0m\u001b[0;34m)\u001b[0m\u001b[0;34m[\u001b[0m\u001b[0;36m0\u001b[0m\u001b[0;34m]\u001b[0m\u001b[0;34m\u001b[0m\u001b[0;34m\u001b[0m\u001b[0m\n\u001b[1;32m     46\u001b[0m                 \u001b[0;32mif\u001b[0m \u001b[0mid\u001b[0m \u001b[0;34m!=\u001b[0m \u001b[0;34m''\u001b[0m\u001b[0;34m:\u001b[0m\u001b[0;34m\u001b[0m\u001b[0;34m\u001b[0m\u001b[0m\n\u001b[0;32m---> 47\u001b[0;31m                     \u001b[0mshutil\u001b[0m\u001b[0;34m.\u001b[0m\u001b[0mcopy2\u001b[0m\u001b[0;34m(\u001b[0m\u001b[0mrandFolders\u001b[0m\u001b[0;34m[\u001b[0m\u001b[0miteration\u001b[0m\u001b[0;34m]\u001b[0m \u001b[0;34m+\u001b[0m \u001b[0;34m'/'\u001b[0m \u001b[0;34m+\u001b[0m \u001b[0mstr\u001b[0m\u001b[0;34m(\u001b[0m\u001b[0mfile\u001b[0m\u001b[0;34m)\u001b[0m\u001b[0;34m,\u001b[0m \u001b[0;34m'./image/'\u001b[0m \u001b[0;34m+\u001b[0m \u001b[0mstr\u001b[0m\u001b[0;34m(\u001b[0m\u001b[0midx\u001b[0m\u001b[0;34m)\u001b[0m\u001b[0;34m.\u001b[0m\u001b[0mzfill\u001b[0m\u001b[0;34m(\u001b[0m\u001b[0;36m5\u001b[0m\u001b[0;34m)\u001b[0m \u001b[0;34m+\u001b[0m \u001b[0;34m'.png'\u001b[0m\u001b[0;34m)\u001b[0m\u001b[0;34m\u001b[0m\u001b[0;34m\u001b[0m\u001b[0m\n\u001b[0m\u001b[1;32m     48\u001b[0m                     \u001b[0mfp\u001b[0m \u001b[0;34m=\u001b[0m \u001b[0mopen\u001b[0m\u001b[0;34m(\u001b[0m\u001b[0;34m\"./label/\"\u001b[0m \u001b[0;34m+\u001b[0m \u001b[0mstr\u001b[0m\u001b[0;34m(\u001b[0m\u001b[0midx\u001b[0m\u001b[0;34m)\u001b[0m\u001b[0;34m.\u001b[0m\u001b[0mzfill\u001b[0m\u001b[0;34m(\u001b[0m\u001b[0;36m5\u001b[0m\u001b[0;34m)\u001b[0m \u001b[0;34m+\u001b[0m \u001b[0;34m'.txt'\u001b[0m\u001b[0;34m,\u001b[0m \u001b[0;34m'w'\u001b[0m\u001b[0;34m)\u001b[0m\u001b[0;34m\u001b[0m\u001b[0;34m\u001b[0m\u001b[0m\n\u001b[1;32m     49\u001b[0m                     \u001b[0mfp\u001b[0m\u001b[0;34m.\u001b[0m\u001b[0mwrite\u001b[0m\u001b[0;34m(\u001b[0m\u001b[0mid\u001b[0m\u001b[0;34m)\u001b[0m\u001b[0;34m\u001b[0m\u001b[0;34m\u001b[0m\u001b[0m\n",
            "\u001b[0;32m/usr/lib/python3.6/shutil.py\u001b[0m in \u001b[0;36mcopy2\u001b[0;34m(src, dst, follow_symlinks)\u001b[0m\n\u001b[1;32m    261\u001b[0m     \u001b[0;32mif\u001b[0m \u001b[0mos\u001b[0m\u001b[0;34m.\u001b[0m\u001b[0mpath\u001b[0m\u001b[0;34m.\u001b[0m\u001b[0misdir\u001b[0m\u001b[0;34m(\u001b[0m\u001b[0mdst\u001b[0m\u001b[0;34m)\u001b[0m\u001b[0;34m:\u001b[0m\u001b[0;34m\u001b[0m\u001b[0;34m\u001b[0m\u001b[0m\n\u001b[1;32m    262\u001b[0m         \u001b[0mdst\u001b[0m \u001b[0;34m=\u001b[0m \u001b[0mos\u001b[0m\u001b[0;34m.\u001b[0m\u001b[0mpath\u001b[0m\u001b[0;34m.\u001b[0m\u001b[0mjoin\u001b[0m\u001b[0;34m(\u001b[0m\u001b[0mdst\u001b[0m\u001b[0;34m,\u001b[0m \u001b[0mos\u001b[0m\u001b[0;34m.\u001b[0m\u001b[0mpath\u001b[0m\u001b[0;34m.\u001b[0m\u001b[0mbasename\u001b[0m\u001b[0;34m(\u001b[0m\u001b[0msrc\u001b[0m\u001b[0;34m)\u001b[0m\u001b[0;34m)\u001b[0m\u001b[0;34m\u001b[0m\u001b[0;34m\u001b[0m\u001b[0m\n\u001b[0;32m--> 263\u001b[0;31m     \u001b[0mcopyfile\u001b[0m\u001b[0;34m(\u001b[0m\u001b[0msrc\u001b[0m\u001b[0;34m,\u001b[0m \u001b[0mdst\u001b[0m\u001b[0;34m,\u001b[0m \u001b[0mfollow_symlinks\u001b[0m\u001b[0;34m=\u001b[0m\u001b[0mfollow_symlinks\u001b[0m\u001b[0;34m)\u001b[0m\u001b[0;34m\u001b[0m\u001b[0;34m\u001b[0m\u001b[0m\n\u001b[0m\u001b[1;32m    264\u001b[0m     \u001b[0mcopystat\u001b[0m\u001b[0;34m(\u001b[0m\u001b[0msrc\u001b[0m\u001b[0;34m,\u001b[0m \u001b[0mdst\u001b[0m\u001b[0;34m,\u001b[0m \u001b[0mfollow_symlinks\u001b[0m\u001b[0;34m=\u001b[0m\u001b[0mfollow_symlinks\u001b[0m\u001b[0;34m)\u001b[0m\u001b[0;34m\u001b[0m\u001b[0;34m\u001b[0m\u001b[0m\n\u001b[1;32m    265\u001b[0m     \u001b[0;32mreturn\u001b[0m \u001b[0mdst\u001b[0m\u001b[0;34m\u001b[0m\u001b[0;34m\u001b[0m\u001b[0m\n",
            "\u001b[0;32m/usr/lib/python3.6/shutil.py\u001b[0m in \u001b[0;36mcopyfile\u001b[0;34m(src, dst, follow_symlinks)\u001b[0m\n\u001b[1;32m    120\u001b[0m         \u001b[0;32mwith\u001b[0m \u001b[0mopen\u001b[0m\u001b[0;34m(\u001b[0m\u001b[0msrc\u001b[0m\u001b[0;34m,\u001b[0m \u001b[0;34m'rb'\u001b[0m\u001b[0;34m)\u001b[0m \u001b[0;32mas\u001b[0m \u001b[0mfsrc\u001b[0m\u001b[0;34m:\u001b[0m\u001b[0;34m\u001b[0m\u001b[0;34m\u001b[0m\u001b[0m\n\u001b[1;32m    121\u001b[0m             \u001b[0;32mwith\u001b[0m \u001b[0mopen\u001b[0m\u001b[0;34m(\u001b[0m\u001b[0mdst\u001b[0m\u001b[0;34m,\u001b[0m \u001b[0;34m'wb'\u001b[0m\u001b[0;34m)\u001b[0m \u001b[0;32mas\u001b[0m \u001b[0mfdst\u001b[0m\u001b[0;34m:\u001b[0m\u001b[0;34m\u001b[0m\u001b[0;34m\u001b[0m\u001b[0m\n\u001b[0;32m--> 122\u001b[0;31m                 \u001b[0mcopyfileobj\u001b[0m\u001b[0;34m(\u001b[0m\u001b[0mfsrc\u001b[0m\u001b[0;34m,\u001b[0m \u001b[0mfdst\u001b[0m\u001b[0;34m)\u001b[0m\u001b[0;34m\u001b[0m\u001b[0;34m\u001b[0m\u001b[0m\n\u001b[0m\u001b[1;32m    123\u001b[0m     \u001b[0;32mreturn\u001b[0m \u001b[0mdst\u001b[0m\u001b[0;34m\u001b[0m\u001b[0;34m\u001b[0m\u001b[0m\n\u001b[1;32m    124\u001b[0m \u001b[0;34m\u001b[0m\u001b[0m\n",
            "\u001b[0;32m/usr/lib/python3.6/shutil.py\u001b[0m in \u001b[0;36mcopyfileobj\u001b[0;34m(fsrc, fdst, length)\u001b[0m\n\u001b[1;32m     77\u001b[0m     \u001b[0;34m\"\"\"copy data from file-like object fsrc to file-like object fdst\"\"\"\u001b[0m\u001b[0;34m\u001b[0m\u001b[0;34m\u001b[0m\u001b[0m\n\u001b[1;32m     78\u001b[0m     \u001b[0;32mwhile\u001b[0m \u001b[0;36m1\u001b[0m\u001b[0;34m:\u001b[0m\u001b[0;34m\u001b[0m\u001b[0;34m\u001b[0m\u001b[0m\n\u001b[0;32m---> 79\u001b[0;31m         \u001b[0mbuf\u001b[0m \u001b[0;34m=\u001b[0m \u001b[0mfsrc\u001b[0m\u001b[0;34m.\u001b[0m\u001b[0mread\u001b[0m\u001b[0;34m(\u001b[0m\u001b[0mlength\u001b[0m\u001b[0;34m)\u001b[0m\u001b[0;34m\u001b[0m\u001b[0;34m\u001b[0m\u001b[0m\n\u001b[0m\u001b[1;32m     80\u001b[0m         \u001b[0;32mif\u001b[0m \u001b[0;32mnot\u001b[0m \u001b[0mbuf\u001b[0m\u001b[0;34m:\u001b[0m\u001b[0;34m\u001b[0m\u001b[0;34m\u001b[0m\u001b[0m\n\u001b[1;32m     81\u001b[0m             \u001b[0;32mbreak\u001b[0m\u001b[0;34m\u001b[0m\u001b[0;34m\u001b[0m\u001b[0m\n",
            "\u001b[0;31mKeyboardInterrupt\u001b[0m: "
          ]
        }
      ]
    }
  ]
}